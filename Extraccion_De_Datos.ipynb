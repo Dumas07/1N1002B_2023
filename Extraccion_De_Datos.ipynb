{
  "nbformat": 4,
  "nbformat_minor": 0,
  "metadata": {
    "colab": {
      "provenance": [],
      "authorship_tag": "ABX9TyPWn80Va06HAnvHmS7QDcL7",
      "include_colab_link": true
    },
    "kernelspec": {
      "name": "python3",
      "display_name": "Python 3"
    },
    "language_info": {
      "name": "python"
    }
  },
  "cells": [
    {
      "cell_type": "markdown",
      "metadata": {
        "id": "view-in-github",
        "colab_type": "text"
      },
      "source": [
        "<a href=\"https://colab.research.google.com/github/Dumas07/1N1002B_2023/blob/main/Extraccion_De_Datos.ipynb\" target=\"_parent\"><img src=\"https://colab.research.google.com/assets/colab-badge.svg\" alt=\"Open In Colab\"/></a>"
      ]
    },
    {
      "cell_type": "code",
      "source": [
        "#Importamos librerías requeridas\n",
        "import pandas as pd\n",
        "import numpy as np\n",
        "import matplotlib.pyplot as plt\n",
        "import seaborn as sns"
      ],
      "metadata": {
        "id": "0lXzZtrVXp9q"
      },
      "execution_count": 8,
      "outputs": []
    },
    {
      "cell_type": "code",
      "source": [
        "#Cargar archivo csv desde equipo\n",
        "from google.colab import files\n",
        "files.upload()"
      ],
      "metadata": {
        "id": "S2nMnMU7XsrU"
      },
      "execution_count": null,
      "outputs": []
    },
    {
      "cell_type": "code",
      "source": [
        "#Convertir en dataframe\n",
        "df= pd.read_csv(\"CountryTable.csv\")\n",
        "#df"
      ],
      "metadata": {
        "id": "R8AqdlOjX2Ug"
      },
      "execution_count": 11,
      "outputs": []
    },
    {
      "cell_type": "code",
      "source": [
        "#Imprimimos las primeras filas o registros del Dataframe\n",
        "df.head(5)"
      ],
      "metadata": {
        "id": "Z-N5K1zcX_7j"
      },
      "execution_count": null,
      "outputs": []
    },
    {
      "cell_type": "markdown",
      "source": [
        "**FILTROS BASICOS PARA VARIABLES CUALITATIVAS **\n"
      ],
      "metadata": {
        "id": "WIJz3-ACY8iB"
      }
    },
    {
      "cell_type": "code",
      "source": [
        "#Filtro por objeto\n",
        "filtro1=df[df[\"continent\"] == \"North America\"]\n",
        "filtro1"
      ],
      "metadata": {
        "id": "p4JNVtctZjku"
      },
      "execution_count": null,
      "outputs": []
    },
    {
      "cell_type": "code",
      "source": [
        "#Filtro por filas\n",
        "#filtro2= df.iloc[300:302,: ]\n",
        "filtro2=df.iloc[ 8:23 , : ]  #filas no consecutivas\n",
        "filtro2"
      ],
      "metadata": {
        "id": "h1H5vh2sfrqI"
      },
      "execution_count": null,
      "outputs": []
    },
    {
      "cell_type": "code",
      "source": [
        "#Filtro por columnas\n",
        "#filtro3=df.iloc[ : , 2:5]\n",
        "filtro3=df.iloc[ : , [1,3,7]]  #columnas no consecutivas\n",
        "filtro3"
      ],
      "metadata": {
        "id": "MH-ms-pXiZ27"
      },
      "execution_count": null,
      "outputs": []
    },
    {
      "cell_type": "code",
      "source": [
        "#Cambiamos como primera columna la 3 y ahora es la 1 que nos aparece\n",
        "df= pd.read_csv(\"CountryTable.csv\", index_col=3)\n",
        "df"
      ],
      "metadata": {
        "id": "P-EZE-I5jIsH"
      },
      "execution_count": null,
      "outputs": []
    },
    {
      "cell_type": "code",
      "source": [
        "#Paso 2: Aplicamos Filtro de filas vs columnas, de la region y la expectativa de vida\n",
        "filtro4=df.loc[[\"Eastern Africa\",\"Southern Africa\"], [\"life_expectancy\"]]\n",
        "filtro4"
      ],
      "metadata": {
        "id": "EveeIVyUkH_K"
      },
      "execution_count": null,
      "outputs": []
    },
    {
      "cell_type": "code",
      "source": [
        "#Filtro por cabecera\n",
        "filtro5=df.head(8)\n",
        "filtro5"
      ],
      "metadata": {
        "id": "GMzs4DITk-Tl"
      },
      "execution_count": null,
      "outputs": []
    },
    {
      "cell_type": "markdown",
      "source": [
        "**FILTROS BASICOS PARA VARIABLES CUANTITATIVAS**"
      ],
      "metadata": {
        "id": "IkN7iNwslROl"
      }
    },
    {
      "cell_type": "code",
      "source": [
        "#Filtro por comparacion\n",
        "filtro6=df[df[\"population\"] > 900]\n",
        "filtro6"
      ],
      "metadata": {
        "id": "36tO2aEalUH5"
      },
      "execution_count": null,
      "outputs": []
    },
    {
      "cell_type": "markdown",
      "source": [
        "**FILTROS BASICOS CON CONETORES LOGICOS**"
      ],
      "metadata": {
        "id": "zizYDc6zlqfu"
      }
    },
    {
      "cell_type": "code",
      "source": [
        "#Filtro Y que sea del continente de norte america\n",
        "filtro7=df[(df[\"population\"] >900) & (df[\"continent\"] == \"North America\")]\n",
        "filtro7"
      ],
      "metadata": {
        "id": "Uk4mXMurlrxO"
      },
      "execution_count": null,
      "outputs": []
    },
    {
      "cell_type": "code",
      "source": [
        "#Filtro o que tenga mas de 900 habitantes o sea de norte america\n",
        "filtro8=df[(df[\"population\"] > 900) | (df[\"continent\"] == \"North America\")]\n",
        "filtro8"
      ],
      "metadata": {
        "id": "DGOgb6glmwj1"
      },
      "execution_count": null,
      "outputs": []
    },
    {
      "cell_type": "code",
      "source": [
        "#Filtro not\n",
        "filtro9=df[~(df[\"population\"] >= 900) & ~(df[\"continent\"] == \"North America\")]\n",
        "filtro9"
      ],
      "metadata": {
        "id": "mrt2j8VunEhI"
      },
      "execution_count": null,
      "outputs": []
    }
  ]
}